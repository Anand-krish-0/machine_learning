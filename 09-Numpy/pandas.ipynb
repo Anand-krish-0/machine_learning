{
 "cells": [
  {
   "cell_type": "code",
   "execution_count": 1,
   "metadata": {},
   "outputs": [
    {
     "name": "stdout",
     "output_type": "stream",
     "text": [
      "Requirement already satisfied: pandas in c:\\users\\anand\\appdata\\local\\programs\\python\\python312\\lib\\site-packages (2.2.2)\n",
      "Requirement already satisfied: numpy>=1.26.0 in c:\\users\\anand\\appdata\\local\\programs\\python\\python312\\lib\\site-packages (from pandas) (2.0.0)\n",
      "Requirement already satisfied: python-dateutil>=2.8.2 in c:\\users\\anand\\appdata\\roaming\\python\\python312\\site-packages (from pandas) (2.9.0.post0)\n",
      "Requirement already satisfied: pytz>=2020.1 in c:\\users\\anand\\appdata\\local\\programs\\python\\python312\\lib\\site-packages (from pandas) (2024.1)\n",
      "Requirement already satisfied: tzdata>=2022.7 in c:\\users\\anand\\appdata\\local\\programs\\python\\python312\\lib\\site-packages (from pandas) (2024.1)\n",
      "Requirement already satisfied: six>=1.5 in c:\\users\\anand\\appdata\\roaming\\python\\python312\\site-packages (from python-dateutil>=2.8.2->pandas) (1.16.0)\n",
      "Note: you may need to restart the kernel to use updated packages.\n"
     ]
    },
    {
     "name": "stderr",
     "output_type": "stream",
     "text": [
      "\n",
      "[notice] A new release of pip is available: 24.0 -> 24.1.2\n",
      "[notice] To update, run: python.exe -m pip install --upgrade pip\n"
     ]
    }
   ],
   "source": [
    "pip install pandas"
   ]
  },
  {
   "cell_type": "code",
   "execution_count": 4,
   "metadata": {},
   "outputs": [
    {
     "name": "stdout",
     "output_type": "stream",
     "text": [
      "  id       name\n",
      "1  1     ananad\n",
      "2  2     prabhu\n",
      "3  3  bhuvanesh\n"
     ]
    }
   ],
   "source": [
    "\n",
    "import pandas as pd\n",
    "data={\n",
    "    'id':['1','2','3'],\n",
    "    'name':['ananad','prabhu','bhuvanesh']\n",
    "}\n",
    "print(pd.DataFrame(data,index=[1,2,3]))"
   ]
  },
  {
   "cell_type": "code",
   "execution_count": 28,
   "metadata": {},
   "outputs": [
    {
     "name": "stdout",
     "output_type": "stream",
     "text": [
      "[[ 458 1617  711 ... 1149 1651 1736]\n",
      " [1565  107 1359 ...  419 1336 1502]\n",
      " [ 781  988 1693 ... 1449  489 1268]\n",
      " ...\n",
      " [1089 1398 1710 ... 1622 1245 1973]\n",
      " [1867  224 1908 ... 1433 1193 1832]\n",
      " [1954 1128 1634 ...  328 1234 1770]]\n",
      "(1000, 100)\n",
      "     0     1     2     3     4     5     6     7     8     9   ...    90  \\\n",
      "0   458  1617   711   548   743  1090  1400   271   545   809  ...   253   \n",
      "1  1565   107  1359   605   455  1618  1169   591   104  1001  ...   255   \n",
      "2   781   988  1693   773   612  1024   541  1454   243   649  ...   221   \n",
      "3  1407  1888  1479   158  1172   683   941  1148  1960   547  ...   250   \n",
      "4  1732   497  1620   811   534  1075   255  1671   349  1330  ...  1715   \n",
      "5   431  1470  1177   994   227  1071   186  1139  1134  1510  ...  1711   \n",
      "6   957   660   669  1528   234  1063  1080  1851   944  1693  ...  1629   \n",
      "7  1277   641   261   555  1727   881  1229   816   953   314  ...  1673   \n",
      "8  1739  1833  1340  1811   841   995   558  1652  1175   970  ...   851   \n",
      "\n",
      "     91    92    93    94    95    96    97    98    99  \n",
      "0  1198   408   559   492   739  1241  1149  1651  1736  \n",
      "1   500   648  1814   567   676  1538   419  1336  1502  \n",
      "2   850  1756   508  1013   338  1217  1449   489  1268  \n",
      "3  1527   557  1366   743  1363   563  1698  1506  1998  \n",
      "4  1920   381   666   173  1056   565  1430  1946  1304  \n",
      "5  1304  1491   208  1581  1816   120   767   143   229  \n",
      "6  1052  1227  1415   500   603  1579   372   659  1810  \n",
      "7  1105  1311  1008  1400  1636   172   870  1351   176  \n",
      "8   520  1845   985   207  1708   960  1395  1096  1972  \n",
      "\n",
      "[9 rows x 100 columns]\n"
     ]
    }
   ],
   "source": [
    "8\n",
    "import pandas as pd\n",
    "arr = np.random.randint(100, 1999, size=(1000, 100))\n",
    "print(arr)\n",
    "print(arr.shape)\n",
    "df = pd.DataFrame(arr)\n",
    "\n",
    "print(df[:9].tail(10))\n"
   ]
  },
  {
   "cell_type": "code",
   "execution_count": 13,
   "metadata": {},
   "outputs": [
    {
     "name": "stdout",
     "output_type": "stream",
     "text": [
      "The sum of 9 and 9 is 18\n"
     ]
    }
   ],
   "source": [
    "def add_without_plus(a, b):\n",
    "    while b != 0:\n",
    "        # carry now contains common set bits of a and b\n",
    "        carry = a & b\n",
    "        \n",
    "        # sum of bits of a and b where at least one of the bits is not set\n",
    "        a = a ^ b\n",
    "        \n",
    "        # carry is shifted by one so that adding it to a gives the required sum\n",
    "        b = carry << 1\n",
    "    \n",
    "    return a\n",
    "# Example usage\n",
    "num1 = int(input())\n",
    "num2 = int(input())\n",
    "result = add_without_plus(num1, num2)\n",
    "print(f\"The sum of {num1} and {num2} is {result}\")"
   ]
  },
  {
   "cell_type": "code",
   "execution_count": 17,
   "metadata": {},
   "outputs": [
    {
     "ename": "TypeError",
     "evalue": "array() takes from 1 to 2 positional arguments but 6 were given",
     "output_type": "error",
     "traceback": [
      "\u001b[1;31m---------------------------------------------------------------------------\u001b[0m",
      "\u001b[1;31mTypeError\u001b[0m                                 Traceback (most recent call last)",
      "Cell \u001b[1;32mIn[17], line 3\u001b[0m\n\u001b[0;32m      1\u001b[0m \u001b[38;5;28;01mimport\u001b[39;00m \u001b[38;5;21;01mnumpy\u001b[39;00m \u001b[38;5;28;01mas\u001b[39;00m \u001b[38;5;21;01mnp\u001b[39;00m\n\u001b[0;32m      2\u001b[0m \u001b[38;5;28;01mimport\u001b[39;00m \u001b[38;5;21;01mpandas\u001b[39;00m \u001b[38;5;28;01mas\u001b[39;00m \u001b[38;5;21;01mpd\u001b[39;00m\n\u001b[1;32m----> 3\u001b[0m n\u001b[38;5;241m=\u001b[39m\u001b[43mnp\u001b[49m\u001b[38;5;241;43m.\u001b[39;49m\u001b[43marray\u001b[49m\u001b[43m(\u001b[49m\u001b[38;5;241;43m1\u001b[39;49m\u001b[43m,\u001b[49m\u001b[38;5;241;43m2\u001b[39;49m\u001b[43m,\u001b[49m\u001b[38;5;241;43m3\u001b[39;49m\u001b[43m,\u001b[49m\u001b[38;5;241;43m4\u001b[39;49m\u001b[43m,\u001b[49m\u001b[38;5;241;43m4\u001b[39;49m\u001b[43m,\u001b[49m\u001b[38;5;241;43m5\u001b[39;49m\u001b[43m)\u001b[49m\n\u001b[0;32m      4\u001b[0m mean\u001b[38;5;241m=\u001b[39mpd\u001b[38;5;241m.\u001b[39mstdev(n)\n\u001b[0;32m      5\u001b[0m \u001b[38;5;28mprint\u001b[39m(mean)\n",
      "\u001b[1;31mTypeError\u001b[0m: array() takes from 1 to 2 positional arguments but 6 were given"
     ]
    }
   ],
   "source": [
    "import numpy as np\n",
    "import pandas as pd\n",
    "n=np.array(1,2,3,4,4,5)\n",
    "mean=pd.stdev(n)\n",
    "print(mean)\n"
   ]
  },
  {
   "cell_type": "code",
   "execution_count": 60,
   "metadata": {},
   "outputs": [
    {
     "name": "stdout",
     "output_type": "stream",
     "text": [
      "00011011\n"
     ]
    }
   ],
   "source": [
    "a=8987\n",
    "print(bin(a)[8:])"
   ]
  },
  {
   "cell_type": "code",
   "execution_count": null,
   "metadata": {},
   "outputs": [
    {
     "ename": "",
     "evalue": "",
     "output_type": "error",
     "traceback": [
      "\u001b[1;31mFailed to start the Kernel. \n",
      "\u001b[1;31mUnable to start Kernel 'Python 3.12.4' due to a timeout waiting for the ports to get used. \n",
      "\u001b[1;31mView Jupyter <a href='command:jupyter.viewOutput'>log</a> for further details."
     ]
    }
   ],
   "source": [
    "import numpy as np\n",
    "import pandas as pd\n",
    "x=[1,2,3,4]\n",
    "y=pd.Dataframe(x)\n",
    "z=y.describe()\n",
    "print(z)"
   ]
  },
  {
   "cell_type": "code",
   "execution_count": null,
   "metadata": {},
   "outputs": [],
   "source": []
  }
 ],
 "metadata": {
  "kernelspec": {
   "display_name": "Python 3",
   "language": "python",
   "name": "python3"
  },
  "language_info": {
   "codemirror_mode": {
    "name": "ipython",
    "version": 3
   },
   "file_extension": ".py",
   "mimetype": "text/x-python",
   "name": "python",
   "nbconvert_exporter": "python",
   "pygments_lexer": "ipython3",
   "version": "3.12.4"
  }
 },
 "nbformat": 4,
 "nbformat_minor": 2
}
