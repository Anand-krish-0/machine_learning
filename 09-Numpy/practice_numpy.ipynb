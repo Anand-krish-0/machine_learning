{
 "cells": [
  {
   "cell_type": "code",
   "execution_count": 81,
   "metadata": {},
   "outputs": [
    {
     "name": "stdout",
     "output_type": "stream",
     "text": [
      "Requirement already satisfied: numpy in c:\\users\\anand\\appdata\\local\\programs\\python\\python312\\lib\\site-packages (2.0.0)\n",
      "Note: you may need to restart the kernel to use updated packages.\n"
     ]
    },
    {
     "name": "stderr",
     "output_type": "stream",
     "text": [
      "\n",
      "[notice] A new release of pip is available: 24.0 -> 24.1.2\n",
      "[notice] To update, run: python.exe -m pip install --upgrade pip\n"
     ]
    }
   ],
   "source": [
    "pip install numpy"
   ]
  },
  {
   "cell_type": "code",
   "execution_count": 82,
   "metadata": {},
   "outputs": [
    {
     "name": "stdout",
     "output_type": "stream",
     "text": [
      "[1, 2, 3]\n",
      "[1 2 3]\n"
     ]
    }
   ],
   "source": [
    "import numpy as np\n",
    "l=[1,2,3]\n",
    "ar=np.array(l)\n",
    "print(l)\n",
    "print(ar)"
   ]
  },
  {
   "cell_type": "code",
   "execution_count": 83,
   "metadata": {},
   "outputs": [
    {
     "name": "stdout",
     "output_type": "stream",
     "text": [
      "Requirement already satisfied: pandas in c:\\users\\anand\\appdata\\local\\programs\\python\\python312\\lib\\site-packages (2.2.2)Note: you may need to restart the kernel to use updated packages.\n",
      "\n",
      "Requirement already satisfied: numpy>=1.26.0 in c:\\users\\anand\\appdata\\local\\programs\\python\\python312\\lib\\site-packages (from pandas) (2.0.0)\n",
      "Requirement already satisfied: python-dateutil>=2.8.2 in c:\\users\\anand\\appdata\\roaming\\python\\python312\\site-packages (from pandas) (2.9.0.post0)\n",
      "Requirement already satisfied: pytz>=2020.1 in c:\\users\\anand\\appdata\\local\\programs\\python\\python312\\lib\\site-packages (from pandas) (2024.1)\n",
      "Requirement already satisfied: tzdata>=2022.7 in c:\\users\\anand\\appdata\\local\\programs\\python\\python312\\lib\\site-packages (from pandas) (2024.1)\n",
      "Requirement already satisfied: six>=1.5 in c:\\users\\anand\\appdata\\roaming\\python\\python312\\site-packages (from python-dateutil>=2.8.2->pandas) (1.16.0)\n"
     ]
    },
    {
     "name": "stderr",
     "output_type": "stream",
     "text": [
      "\n",
      "[notice] A new release of pip is available: 24.0 -> 24.1.2\n",
      "[notice] To update, run: python.exe -m pip install --upgrade pip\n"
     ]
    }
   ],
   "source": [
    "pip install pandas"
   ]
  },
  {
   "cell_type": "code",
   "execution_count": 84,
   "metadata": {},
   "outputs": [
    {
     "name": "stdout",
     "output_type": "stream",
     "text": [
      "Array:  [[0. 0. 0.]\n",
      " [0. 0. 0.]\n",
      " [0. 0. 0.]]\n"
     ]
    }
   ],
   "source": [
    "import numpy as np\n",
    "arr=np.zeros((3,3))\n",
    "print(\"Array: \", arr)"
   ]
  },
  {
   "cell_type": "code",
   "execution_count": 85,
   "metadata": {},
   "outputs": [
    {
     "name": "stdout",
     "output_type": "stream",
     "text": [
      "Array: \n",
      " [1 2 3 4]\n",
      "Shape:  (4,)\n",
      "Data Type:  int32\n",
      "Item Size:  4\n",
      "Dimensionality:  1\n"
     ]
    }
   ],
   "source": [
    "import numpy as np\n",
    "\n",
    "arr = np.array([1, 2, 3, 4],dtype=np.int32)\n",
    "\n",
    "print(\"Array: \\n\", arr)\n",
    "\n",
    "# Print shape\n",
    "print(\"Shape: \", arr.shape)\n",
    "\n",
    "# Print datatype\n",
    "print(\"Data Type: \", arr.dtype)\n",
    "\n",
    "# Print item size in byte of each element\n",
    "print(\"Item Size: \", arr.itemsize)\n",
    "\n",
    "# Print the dimensionality of the numpy array\n",
    "print(\"Dimensionality: \", arr.ndim)"
   ]
  },
  {
   "cell_type": "code",
   "execution_count": 86,
   "metadata": {},
   "outputs": [
    {
     "name": "stdout",
     "output_type": "stream",
     "text": [
      "firstday array\n",
      "[[1 2]\n",
      " [3 4]]\n"
     ]
    }
   ],
   "source": [
    "a=np.array([[1,2],[3,4]])\n",
    "print('firstday array')\n",
    "print(a)"
   ]
  },
  {
   "cell_type": "code",
   "execution_count": 87,
   "metadata": {},
   "outputs": [
    {
     "name": "stdout",
     "output_type": "stream",
     "text": [
      "[[ 0  5 10]\n",
      " [15 20 25]\n",
      " [30 35 40]]\n",
      "0\n",
      "5\n",
      "10\n",
      "15\n",
      "20\n",
      "25\n",
      "30\n",
      "35\n",
      "40\n"
     ]
    }
   ],
   "source": [
    "a=np.arange(0,45,5)\n",
    "a=a.reshape(3,3)\n",
    "print(a)\n",
    "for x in np.nditer(a):\n",
    "    print(x)"
   ]
  },
  {
   "cell_type": "code",
   "execution_count": 88,
   "metadata": {},
   "outputs": [
    {
     "name": "stdout",
     "output_type": "stream",
     "text": [
      "[[ 0  5 10]\n",
      " [15 20 25]\n",
      " [30 35 40]]\n",
      "0\n",
      "5\n",
      "10\n",
      "15\n",
      "20\n",
      "25\n",
      "30\n",
      "35\n",
      "40\n"
     ]
    }
   ],
   "source": [
    "#iteration\n",
    "print(a)\n",
    "for x in np.nditer(a, order='C'):\n",
    "    print(x)"
   ]
  },
  {
   "cell_type": "markdown",
   "metadata": {},
   "source": [
    "#join arrays\n"
   ]
  },
  {
   "cell_type": "code",
   "execution_count": 89,
   "metadata": {},
   "outputs": [
    {
     "name": "stdout",
     "output_type": "stream",
     "text": [
      "first array\n",
      "[[1 2]\n",
      " [3 4]]\n",
      "second array\n",
      "[[5 6]\n",
      " [7 8]]\n",
      "\n",
      "\n",
      "joining the two arrays along the axis 0:\n",
      "[[1 2]\n",
      " [3 4]\n",
      " [5 6]\n",
      " [7 8]]\n",
      "\n",
      "\n",
      "joining the two arrays along axis 1\n",
      "[[1 2 5 6]\n",
      " [3 4 7 8]]\n"
     ]
    }
   ],
   "source": [
    "a=np.array([[1,2],[3,4]])\n",
    "print('first array')\n",
    "print(a)\n",
    "b=np.array([[5,6],[7,8]])\n",
    "print('second array')\n",
    "print(b)\n",
    "print('\\n')\n",
    "print('joining the two arrays along the axis 0:')\n",
    "print(np.concatenate((a,b)))\n",
    "print('\\n' )\n",
    "print('joining the two arrays along axis 1')\n",
    "print(np.concatenate((a,b), axis=1))\n",
    "\n",
    "      "
   ]
  },
  {
   "cell_type": "code",
   "execution_count": 90,
   "metadata": {},
   "outputs": [
    {
     "name": "stdout",
     "output_type": "stream",
     "text": [
      "[0 1 2 3 4 5 6 7 8]\n",
      "[array([0, 1, 2]), array([3, 4, 5]), array([6, 7, 8])]\n"
     ]
    },
    {
     "data": {
      "text/plain": [
       "[array([0, 1, 2, 3]), array([4]), array([5, 6, 7, 8])]"
      ]
     },
     "execution_count": 90,
     "metadata": {},
     "output_type": "execute_result"
    }
   ],
   "source": [
    "#splitting array\n",
    "a=np.arange(9)\n",
    "print(a)\n",
    "b=np.split(a,3)\n",
    "print(b)\n",
    "np.split(a,[4,5])"
   ]
  },
  {
   "cell_type": "code",
   "execution_count": 91,
   "metadata": {},
   "outputs": [
    {
     "name": "stdout",
     "output_type": "stream",
     "text": [
      "[[1 2 3]\n",
      " [4 5 6]]\n",
      "(2, 3)\n",
      "\n",
      "\n",
      "[[1 2]\n",
      " [3 4]\n",
      " [5 6]]\n",
      "(3, 2)\n",
      "[[1 2 3]\n",
      " [4 5 6]\n",
      " [1 2 3]]\n",
      "(3, 3)\n"
     ]
    }
   ],
   "source": [
    "#resizing array \n",
    "a=np.array([[1,2,3],[4,5,6]])\n",
    "print(a)\n",
    "print(a.shape)\n",
    "print('\\n')\n",
    "b=np.resize(a,(3,2))\n",
    "print(b)\n",
    "print(b.shape)\n",
    "c=np.resize(a,(3,3))\n",
    "print(c)\n",
    "print(c.shape)"
   ]
  },
  {
   "cell_type": "code",
   "execution_count": null,
   "metadata": {},
   "outputs": [],
   "source": []
  },
  {
   "cell_type": "code",
   "execution_count": 92,
   "metadata": {},
   "outputs": [
    {
     "name": "stdout",
     "output_type": "stream",
     "text": [
      "Requirement already satisfied: matplotlib in c:\\users\\anand\\appdata\\local\\programs\\python\\python312\\lib\\site-packages (3.9.1)\n",
      "Requirement already satisfied: contourpy>=1.0.1 in c:\\users\\anand\\appdata\\local\\programs\\python\\python312\\lib\\site-packages (from matplotlib) (1.2.1)\n",
      "Requirement already satisfied: cycler>=0.10 in c:\\users\\anand\\appdata\\local\\programs\\python\\python312\\lib\\site-packages (from matplotlib) (0.12.1)\n",
      "Requirement already satisfied: fonttools>=4.22.0 in c:\\users\\anand\\appdata\\local\\programs\\python\\python312\\lib\\site-packages (from matplotlib) (4.53.1)\n",
      "Requirement already satisfied: kiwisolver>=1.3.1 in c:\\users\\anand\\appdata\\local\\programs\\python\\python312\\lib\\site-packages (from matplotlib) (1.4.5)\n",
      "Requirement already satisfied: numpy>=1.23 in c:\\users\\anand\\appdata\\local\\programs\\python\\python312\\lib\\site-packages (from matplotlib) (2.0.0)\n",
      "Requirement already satisfied: packaging>=20.0 in c:\\users\\anand\\appdata\\roaming\\python\\python312\\site-packages (from matplotlib) (24.1)\n",
      "Requirement already satisfied: pillow>=8 in c:\\users\\anand\\appdata\\local\\programs\\python\\python312\\lib\\site-packages (from matplotlib) (10.4.0)\n",
      "Requirement already satisfied: pyparsing>=2.3.1 in c:\\users\\anand\\appdata\\local\\programs\\python\\python312\\lib\\site-packages (from matplotlib) (3.1.2)\n",
      "Requirement already satisfied: python-dateutil>=2.7 in c:\\users\\anand\\appdata\\roaming\\python\\python312\\site-packages (from matplotlib) (2.9.0.post0)\n",
      "Requirement already satisfied: six>=1.5 in c:\\users\\anand\\appdata\\roaming\\python\\python312\\site-packages (from python-dateutil>=2.7->matplotlib) (1.16.0)\n",
      "Note: you may need to restart the kernel to use updated packages.\n"
     ]
    },
    {
     "name": "stderr",
     "output_type": "stream",
     "text": [
      "\n",
      "[notice] A new release of pip is available: 24.0 -> 24.1.2\n",
      "[notice] To update, run: python.exe -m pip install --upgrade pip\n"
     ]
    }
   ],
   "source": [
    "pip install matplotlib "
   ]
  },
  {
   "cell_type": "code",
   "execution_count": 93,
   "metadata": {},
   "outputs": [
    {
     "data": {
      "image/png": "[encoded data removed]",
      "text/plain": [
       "<Figure size 640x480 with 1 Axes>"
      ]
     },
     "metadata": {},
     "output_type": "display_data"
    }
   ],
   "source": [
    "from matplotlib import pyplot as plt\n",
    "a=np.array([20,30,40,34,56,12,65,87,98])\n",
    "plt.hist(a, bins=[0,20,40,60,80,100])\n",
    "plt.title('Histogram')\n",
    "plt.show()"
   ]
  },
  {
   "cell_type": "code",
   "execution_count": 94,
   "metadata": {},
   "outputs": [
    {
     "name": "stdout",
     "output_type": "stream",
     "text": [
      "[1.         1.22222222 1.44444444 1.66666667 1.88888889 2.11111111\n",
      " 2.33333333 2.55555556 2.77777778 3.        ]\n"
     ]
    }
   ],
   "source": [
    "a=np.linspace(1,3,10)\n",
    "print(a)"
   ]
  },
  {
   "cell_type": "code",
   "execution_count": 95,
   "metadata": {},
   "outputs": [
    {
     "name": "stdout",
     "output_type": "stream",
     "text": [
      "[4 6 8]\n",
      "[[1.         1.41421356 1.73205081]\n",
      " [1.73205081 2.         2.23606798]]\n",
      "18\n",
      "1.2909944487358056\n"
     ]
    }
   ],
   "source": [
    "a=np.array([(1,2,3),(3,4,5)])\n",
    "print(a.sum(axis=0))\n",
    "print(np.sqrt(a))\n",
    "print(np.sum(a))\n",
    "print(np.std(a))"
   ]
  },
  {
   "cell_type": "code",
   "execution_count": 96,
   "metadata": {},
   "outputs": [
    {
     "name": "stdout",
     "output_type": "stream",
     "text": [
      "[1 2 3 3 4 5]\n"
     ]
    }
   ],
   "source": [
    "#ravel functions\n",
    "import numpy as np\n",
    "x=np.array([(1,2,3),(3,4,5)])\n",
    "print(x.ravel())"
   ]
  },
  {
   "cell_type": "code",
   "execution_count": 97,
   "metadata": {},
   "outputs": [
    {
     "name": "stdout",
     "output_type": "stream",
     "text": [
      "[[0.         0.69314718 1.09861229]]\n"
     ]
    }
   ],
   "source": [
    "a=np.array([(1,2,3)])\n",
    "print(np.log(a))"
   ]
  },
  {
   "cell_type": "code",
   "execution_count": 98,
   "metadata": {},
   "outputs": [
    {
     "name": "stdout",
     "output_type": "stream",
     "text": [
      "[0.  0.1 0.2 0.3 0.4 0.5 0.6 0.7 0.8 0.9 1.  1.1 1.2 1.3 1.4 1.5 1.6 1.7\n",
      " 1.8 1.9 2.  2.1 2.2 2.3 2.4 2.5 2.6 2.7 2.8 2.9 3.  3.1 3.2 3.3 3.4 3.5\n",
      " 3.6 3.7 3.8 3.9 4.  4.1 4.2 4.3 4.4 4.5 4.6 4.7 4.8 4.9 5.  5.1 5.2 5.3\n",
      " 5.4 5.5 5.6 5.7 5.8 5.9 6.  6.1 6.2 6.3 6.4 6.5 6.6 6.7 6.8 6.9 7.  7.1\n",
      " 7.2 7.3 7.4 7.5 7.6 7.7 7.8 7.9 8.  8.1 8.2 8.3 8.4 8.5 8.6 8.7 8.8 8.9\n",
      " 9.  9.1 9.2 9.3 9.4]\n"
     ]
    },
    {
     "data": {
      "image/png": "[encoded data removed]",
      "text/plain": [
       "<Figure size 640x480 with 1 Axes>"
      ]
     },
     "metadata": {},
     "output_type": "display_data"
    },
    {
     "name": "stdout",
     "output_type": "stream",
     "text": [
      "[ 0.          0.09983342  0.19866933  0.29552021  0.38941834  0.47942554\n",
      "  0.56464247  0.64421769  0.71735609  0.78332691  0.84147098  0.89120736\n",
      "  0.93203909  0.96355819  0.98544973  0.99749499  0.9995736   0.99166481\n",
      "  0.97384763  0.94630009  0.90929743  0.86320937  0.8084964   0.74570521\n",
      "  0.67546318  0.59847214  0.51550137  0.42737988  0.33498815  0.23924933\n",
      "  0.14112001  0.04158066 -0.05837414 -0.15774569 -0.2555411  -0.35078323\n",
      " -0.44252044 -0.52983614 -0.61185789 -0.68776616 -0.7568025  -0.81827711\n",
      " -0.87157577 -0.91616594 -0.95160207 -0.97753012 -0.993691   -0.99992326\n",
      " -0.99616461 -0.98245261 -0.95892427 -0.92581468 -0.88345466 -0.83226744\n",
      " -0.77276449 -0.70554033 -0.63126664 -0.55068554 -0.46460218 -0.37387666\n",
      " -0.2794155  -0.1821625  -0.0830894   0.0168139   0.1165492   0.21511999\n",
      "  0.31154136  0.40484992  0.49411335  0.57843976  0.6569866   0.72896904\n",
      "  0.79366786  0.85043662  0.8987081   0.93799998  0.96791967  0.98816823\n",
      "  0.99854335  0.99894134  0.98935825  0.96988981  0.94073056  0.90217183\n",
      "  0.85459891  0.79848711  0.7343971   0.66296923  0.58491719  0.50102086\n",
      "  0.41211849  0.31909836  0.22288991  0.12445442  0.02477543]\n",
      "[ 0.00000000e+00  1.00334672e-01  2.02710036e-01  3.09336250e-01\n",
      "  4.22793219e-01  5.46302490e-01  6.84136808e-01  8.42288380e-01\n",
      "  1.02963856e+00  1.26015822e+00  1.55740772e+00  1.96475966e+00\n",
      "  2.57215162e+00  3.60210245e+00  5.79788372e+00  1.41014199e+01\n",
      " -3.42325327e+01 -7.69660214e+00 -4.28626167e+00 -2.92709751e+00\n",
      " -2.18503986e+00 -1.70984654e+00 -1.37382306e+00 -1.11921364e+00\n",
      " -9.16014290e-01 -7.47022297e-01 -6.01596613e-01 -4.72727629e-01\n",
      " -3.55529832e-01 -2.46405394e-01 -1.42546543e-01 -4.16166546e-02\n",
      "  5.84738545e-02  1.59745748e-01  2.64316901e-01  3.74585640e-01\n",
      "  4.93466730e-01  6.24733075e-01  7.73556091e-01  9.47424650e-01\n",
      "  1.15782128e+00  1.42352648e+00  1.77777977e+00  2.28584788e+00\n",
      "  3.09632378e+00  4.63733205e+00  8.86017490e+00  8.07127630e+01\n",
      " -1.13848707e+01 -5.26749307e+00 -3.38051501e+00 -2.44938942e+00\n",
      " -1.88564188e+00 -1.50127340e+00 -1.21754082e+00 -9.95584052e-01\n",
      " -8.13943284e-01 -6.59730572e-01 -5.24666222e-01 -4.03110900e-01\n",
      " -2.91006191e-01 -1.85262231e-01 -8.33777149e-02  1.68162777e-02\n",
      "  1.17348947e-01  2.20277200e-01  3.27858007e-01  4.42757417e-01\n",
      "  5.68339979e-01  7.09111151e-01  8.71447983e-01  1.06489313e+00\n",
      "  1.30462094e+00  1.61656142e+00  2.04928417e+00  2.70601387e+00\n",
      "  3.85226569e+00  6.44287247e+00  1.85068216e+01 -2.17151127e+01\n",
      " -6.79971146e+00 -3.98239825e+00 -2.77374930e+00 -2.09137751e+00\n",
      " -1.64571073e+00 -1.32636433e+00 -1.08203242e+00 -8.85556937e-01\n",
      " -7.21146876e-01 -5.78923588e-01 -4.52315659e-01 -3.36700526e-01\n",
      " -2.28641712e-01 -1.25429598e-01 -2.47830328e-02]\n"
     ]
    }
   ],
   "source": [
    "import numpy as np\n",
    "import matplotlib.pyplot as plt\n",
    "\n",
    "x= np.arange(0,3*np.pi,0.1)\n",
    "print(x)\n",
    "y=np.sin(x)\n",
    "plt.plot(x,y)\n",
    "plt.show()\n",
    "print(y)\n",
    "z=np.tan(x)\n",
    "print(z)"
   ]
  },
  {
   "cell_type": "code",
   "execution_count": 99,
   "metadata": {},
   "outputs": [
    {
     "name": "stdout",
     "output_type": "stream",
     "text": [
      "[[0 0 0 0 0 0]\n",
      " [1 0 1 0 1 0]\n",
      " [0 0 0 0 0 0]\n",
      " [1 0 1 0 1 0]\n",
      " [0 0 0 0 0 0]\n",
      " [1 0 1 0 1 0]]\n"
     ]
    }
   ],
   "source": [
    "# create a 6*6 two-dimensional array, and let 1 and 0 be placed alternatively across the diagonols\n",
    "z= np.zeros((6,6),dtype=int)\n",
    "z[1::2,::2]=1\n",
    "print(z)"
   ]
  },
  {
   "cell_type": "code",
   "execution_count": 100,
   "metadata": {},
   "outputs": [
    {
     "name": "stdout",
     "output_type": "stream",
     "text": [
      "[[8.82328068e-01            nan 4.02440460e-01 5.11761988e-02\n",
      "  2.00575078e-02 3.94070337e-01 4.53307988e-01 8.44073717e-02\n",
      "  5.92942041e-01 2.45642013e-01]\n",
      " [7.86672336e-01 4.95061048e-01 8.40093401e-01 9.71874504e-01\n",
      "  3.59651206e-01 8.96917011e-02 6.58536921e-03 3.44665031e-01\n",
      "  8.97133074e-01 5.32278716e-01]\n",
      " [           nan 7.61844197e-01 1.52412661e-01 7.95004066e-01\n",
      "  2.12756372e-01 2.42326255e-01 8.22585653e-01 7.31846260e-01\n",
      "  1.06607402e-02 6.16252532e-01]\n",
      " [9.10910452e-01            nan 9.79611707e-01 2.31323377e-01\n",
      "  4.19678372e-01 9.94293572e-01 2.64618810e-02 4.44402548e-01\n",
      "  5.00134913e-01 5.57003181e-02]\n",
      " [5.75191764e-01 3.15904720e-01 9.21731061e-01 1.50495304e-01\n",
      "  1.77730262e-01 3.39764196e-02 3.19392877e-01 6.70405011e-01\n",
      "  1.02271194e-03 1.44541451e-01]\n",
      " [9.70618380e-01 9.97537536e-01 6.71348464e-01 5.87094580e-01\n",
      "  6.28446102e-02 1.38952724e-01 7.16052180e-01 5.67845133e-01\n",
      "  4.57621220e-01 1.46792274e-01]\n",
      " [4.54061426e-01 5.92498501e-01 2.80144067e-01 9.74600751e-01\n",
      "  6.95610843e-01 4.81938489e-01 9.45097346e-01 7.39972693e-01\n",
      "  4.14903659e-01 8.91217482e-01]\n",
      " [9.62003925e-01 9.07316348e-01 2.09745480e-01 2.96483578e-01\n",
      "  3.23229727e-01 7.36621090e-01 4.45428054e-01 5.25649537e-01\n",
      "  2.53515229e-01 3.75410909e-01]\n",
      " [9.74323771e-01 7.17613908e-01            nan 5.04954638e-01\n",
      "  4.85369556e-01 2.18322920e-02 5.13410616e-01 4.97944669e-01\n",
      "  8.69206986e-01 7.44788459e-03]\n",
      " [9.30391692e-01 4.56079911e-01 4.55882207e-01 6.00536603e-01\n",
      "  7.75650051e-01 3.26715086e-01 9.33629036e-01            nan\n",
      "  5.14141675e-01 2.01062712e-04]]\n",
      "Total number of missing values: \n",
      " 5\n",
      "Indexes of missing values: \n",
      " [[0 1]\n",
      " [2 0]\n",
      " [3 1]\n",
      " [8 2]\n",
      " [9 7]]\n",
      "(array([0, 2, 3, 8, 9]), array([1, 0, 1, 2, 7]))\n"
     ]
    },
    {
     "data": {
      "text/plain": [
       "array([[8.82328068e-01, 0.00000000e+00, 4.02440460e-01, 5.11761988e-02,\n",
       "        2.00575078e-02, 3.94070337e-01, 4.53307988e-01, 8.44073717e-02,\n",
       "        5.92942041e-01, 2.45642013e-01],\n",
       "       [7.86672336e-01, 4.95061048e-01, 8.40093401e-01, 9.71874504e-01,\n",
       "        3.59651206e-01, 8.96917011e-02, 6.58536921e-03, 3.44665031e-01,\n",
       "        8.97133074e-01, 5.32278716e-01],\n",
       "       [0.00000000e+00, 7.61844197e-01, 1.52412661e-01, 7.95004066e-01,\n",
       "        2.12756372e-01, 2.42326255e-01, 8.22585653e-01, 7.31846260e-01,\n",
       "        1.06607402e-02, 6.16252532e-01],\n",
       "       [9.10910452e-01, 0.00000000e+00, 9.79611707e-01, 2.31323377e-01,\n",
       "        4.19678372e-01, 9.94293572e-01, 2.64618810e-02, 4.44402548e-01,\n",
       "        5.00134913e-01, 5.57003181e-02],\n",
       "       [5.75191764e-01, 3.15904720e-01, 9.21731061e-01, 1.50495304e-01,\n",
       "        1.77730262e-01, 3.39764196e-02, 3.19392877e-01, 6.70405011e-01,\n",
       "        1.02271194e-03, 1.44541451e-01],\n",
       "       [9.70618380e-01, 9.97537536e-01, 6.71348464e-01, 5.87094580e-01,\n",
       "        6.28446102e-02, 1.38952724e-01, 7.16052180e-01, 5.67845133e-01,\n",
       "        4.57621220e-01, 1.46792274e-01],\n",
       "       [4.54061426e-01, 5.92498501e-01, 2.80144067e-01, 9.74600751e-01,\n",
       "        6.95610843e-01, 4.81938489e-01, 9.45097346e-01, 7.39972693e-01,\n",
       "        4.14903659e-01, 8.91217482e-01],\n",
       "       [9.62003925e-01, 9.07316348e-01, 2.09745480e-01, 2.96483578e-01,\n",
       "        3.23229727e-01, 7.36621090e-01, 4.45428054e-01, 5.25649537e-01,\n",
       "        2.53515229e-01, 3.75410909e-01],\n",
       "       [9.74323771e-01, 7.17613908e-01, 0.00000000e+00, 5.04954638e-01,\n",
       "        4.85369556e-01, 2.18322920e-02, 5.13410616e-01, 4.97944669e-01,\n",
       "        8.69206986e-01, 7.44788459e-03],\n",
       "       [9.30391692e-01, 4.56079911e-01, 4.55882207e-01, 6.00536603e-01,\n",
       "        7.75650051e-01, 3.26715086e-01, 9.33629036e-01, 0.00000000e+00,\n",
       "        5.14141675e-01, 2.01062712e-04]])"
      ]
     },
     "execution_count": 100,
     "metadata": {},
     "output_type": "execute_result"
    }
   ],
   "source": [
    "#find the total number and locations of missing value in the array\n",
    "z=np.random.rand(10,10)\n",
    "z[np.random.randint(10,size=5),np.random.randint(10,size=5)]=np.nan\n",
    "print(z)\n",
    "print(\"Total number of missing values: \\n\", np.isnan(z).sum())\n",
    "print(\"Indexes of missing values: \\n\", np.argwhere(np.isnan(z)))\n",
    "inds=np.where(np.isnan(z))\n",
    "print(inds)\n",
    "z[inds]=0\n",
    "z"
   ]
  },
  {
   "cell_type": "code",
   "execution_count": 102,
   "metadata": {},
   "outputs": [
    {
     "name": "stdout",
     "output_type": "stream",
     "text": [
      "(array([], dtype=int64), array([], dtype=int64))\n"
     ]
    },
    {
     "data": {
      "text/plain": [
       "array([[8.82328068e-01, 0.00000000e+00, 4.02440460e-01, 5.11761988e-02,\n",
       "        2.00575078e-02, 3.94070337e-01, 4.53307988e-01, 8.44073717e-02,\n",
       "        5.92942041e-01, 2.45642013e-01],\n",
       "       [7.86672336e-01, 4.95061048e-01, 8.40093401e-01, 9.71874504e-01,\n",
       "        3.59651206e-01, 8.96917011e-02, 6.58536921e-03, 3.44665031e-01,\n",
       "        8.97133074e-01, 5.32278716e-01],\n",
       "       [0.00000000e+00, 7.61844197e-01, 1.52412661e-01, 7.95004066e-01,\n",
       "        2.12756372e-01, 2.42326255e-01, 8.22585653e-01, 7.31846260e-01,\n",
       "        1.06607402e-02, 6.16252532e-01],\n",
       "       [9.10910452e-01, 0.00000000e+00, 9.79611707e-01, 2.31323377e-01,\n",
       "        4.19678372e-01, 9.94293572e-01, 2.64618810e-02, 4.44402548e-01,\n",
       "        5.00134913e-01, 5.57003181e-02],\n",
       "       [5.75191764e-01, 3.15904720e-01, 9.21731061e-01, 1.50495304e-01,\n",
       "        1.77730262e-01, 3.39764196e-02, 3.19392877e-01, 6.70405011e-01,\n",
       "        1.02271194e-03, 1.44541451e-01],\n",
       "       [9.70618380e-01, 9.97537536e-01, 6.71348464e-01, 5.87094580e-01,\n",
       "        6.28446102e-02, 1.38952724e-01, 7.16052180e-01, 5.67845133e-01,\n",
       "        4.57621220e-01, 1.46792274e-01],\n",
       "       [4.54061426e-01, 5.92498501e-01, 2.80144067e-01, 9.74600751e-01,\n",
       "        6.95610843e-01, 4.81938489e-01, 9.45097346e-01, 7.39972693e-01,\n",
       "        4.14903659e-01, 8.91217482e-01],\n",
       "       [9.62003925e-01, 9.07316348e-01, 2.09745480e-01, 2.96483578e-01,\n",
       "        3.23229727e-01, 7.36621090e-01, 4.45428054e-01, 5.25649537e-01,\n",
       "        2.53515229e-01, 3.75410909e-01],\n",
       "       [9.74323771e-01, 7.17613908e-01, 0.00000000e+00, 5.04954638e-01,\n",
       "        4.85369556e-01, 2.18322920e-02, 5.13410616e-01, 4.97944669e-01,\n",
       "        8.69206986e-01, 7.44788459e-03],\n",
       "       [9.30391692e-01, 4.56079911e-01, 4.55882207e-01, 6.00536603e-01,\n",
       "        7.75650051e-01, 3.26715086e-01, 9.33629036e-01, 0.00000000e+00,\n",
       "        5.14141675e-01, 2.01062712e-04]])"
      ]
     },
     "execution_count": 102,
     "metadata": {},
     "output_type": "execute_result"
    }
   ],
   "source": [
    "inds=np.where(np.isnan(z))\n",
    "print(inds)\n",
    "z[inds]=0\n",
    "z"
   ]
  },
  {
   "cell_type": "code",
   "execution_count": 17,
   "metadata": {},
   "outputs": [
    {
     "name": "stdout",
     "output_type": "stream",
     "text": [
      "[1 2 3 4 5 6 7 8 9]\n",
      "5.0\n",
      "6.666666666666667\n",
      "5.0\n",
      "2.581988897471611\n"
     ]
    },
    {
     "data": {
      "image/png": "[encoded data removed]",
      "text/plain": [
       "<Figure size 640x480 with 1 Axes>"
      ]
     },
     "metadata": {},
     "output_type": "display_data"
    }
   ],
   "source": [
    "import numpy as np\n",
    "from matplotlib import pyplot as plt \n",
    "a=np.array([1,2,3,4,5,6,7,8,9])\n",
    "y=np.array([23,54,12,56,78,89,98,45,76])\n",
    "print(a)\n",
    "b=np.mean(a)\n",
    "print(b)\n",
    "c=np.var(a)\n",
    "d=np.median(a)\n",
    "e=np.std(a)\n",
    "print(c)\n",
    "print(d)\n",
    "print(e)\n",
    "plt.plot(a,y)\n",
    "plt.show()\n",
    "\n"
   ]
  },
  {
   "cell_type": "code",
   "execution_count": 25,
   "metadata": {},
   "outputs": [
    {
     "name": "stdout",
     "output_type": "stream",
     "text": [
      "[[1 2 3]\n",
      " [4 5 6]\n",
      " [7 8 9]]\n"
     ]
    }
   ],
   "source": [
    "import numpy as np\n",
    "\n",
    "a=np.array([[1,2,3],[4,5,6],[7,8,9]])\n",
    "print(a)\n"
   ]
  },
  {
   "cell_type": "code",
   "execution_count": 37,
   "metadata": {},
   "outputs": [
    {
     "name": "stdout",
     "output_type": "stream",
     "text": [
      "no special classes\n"
     ]
    }
   ],
   "source": [
    "\n",
    "x=int(input(\"Enter the marks:\"))\n",
    "if x<50:\n",
    "    print(\"2 special classes\")\n",
    "    if x<30:\n",
    "        print(\"stay in hostel\")\n",
    "elif 50<x<70:\n",
    "    print(\"1 special class\")\n",
    "else:\n",
    "    print(\"no special classes\")\n"
   ]
  },
  {
   "cell_type": "code",
   "execution_count": 58,
   "metadata": {},
   "outputs": [
    {
     "name": "stdout",
     "output_type": "stream",
     "text": [
      "welcome\n",
      "Married\n"
     ]
    }
   ],
   "source": [
    "name=str(input())\n",
    "if name==\"Anand\" or \"Prabhu\":\n",
    "    print(\"welcome\")\n",
    "else:\n",
    "    print(\"who are you?\")\n",
    "age=int(input())\n",
    "if 18<age<29:\n",
    "    print(\"Bachelor\")\n",
    "else:\n",
    "    print(\"Married\")\n"
   ]
  }
 ],
 "metadata": {
  "kernelspec": {
   "display_name": "Python 3",
   "language": "python",
   "name": "python3"
  },
  "language_info": {
   "codemirror_mode": {
    "name": "ipython",
    "version": 3
   },
   "file_extension": ".py",
   "mimetype": "text/x-python",
   "name": "python",
   "nbconvert_exporter": "python",
   "pygments_lexer": "ipython3",
   "version": "3.12.4"
  }
 },
 "nbformat": 4,
 "nbformat_minor": 2
}
